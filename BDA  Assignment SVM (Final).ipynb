{
 "cells": [
  {
   "cell_type": "code",
   "execution_count": 1,
   "id": "6110e0fc",
   "metadata": {},
   "outputs": [],
   "source": [
    "#importing libraries\n",
    "import pandas as pd\n",
    "import numpy as np\n",
    "import matplotlib.pyplot as plt\n",
    "import seaborn as sns\n",
    "from scipy.stats import entropy\n",
    "from math import log, e\n",
    "from pandas.api.types import is_numeric_dtype\n",
    "import io\n",
    "#from google.colab import files\n",
    "from sklearn.metrics.pairwise import cosine_similarity"
   ]
  },
  {
   "cell_type": "code",
   "execution_count": 2,
   "id": "8ea294d4",
   "metadata": {},
   "outputs": [],
   "source": [
    "import graphviz\n",
    "import io\n",
    "import pydotplus\n",
    "from statistics import mean\n",
    "from IPython.display import Image, display\n",
    "from sklearn import linear_model\n",
    "from sklearn.metrics import mean_squared_error\n",
    "from sklearn.metrics import r2_score\n",
    "from sklearn import metrics\n",
    "from sklearn.tree import DecisionTreeClassifier\n",
    "from sklearn.model_selection import train_test_split\n",
    "from sklearn.ensemble import RandomForestClassifier\n",
    "from sklearn import metrics\n",
    "from sklearn import tree\n",
    "from sklearn.neighbors import KNeighborsClassifier\n",
    "from sklearn.metrics.pairwise import cosine_similarity\n",
    "\n",
    "from sklearn import preprocessing\n",
    "from sklearn.metrics import confusion_matrix,accuracy_score,roc_curve,auc,classification_report,roc_auc_score,plot_confusion_matrix"
   ]
  },
  {
   "cell_type": "code",
   "execution_count": 3,
   "id": "14ba6cb2",
   "metadata": {},
   "outputs": [],
   "source": [
    "df = pd.read_csv('New_assignmnet_data_set_random_10.csv')"
   ]
  },
  {
   "cell_type": "code",
   "execution_count": 4,
   "id": "6f1e838b",
   "metadata": {},
   "outputs": [
    {
     "data": {
      "text/html": [
       "<div>\n",
       "<style scoped>\n",
       "    .dataframe tbody tr th:only-of-type {\n",
       "        vertical-align: middle;\n",
       "    }\n",
       "\n",
       "    .dataframe tbody tr th {\n",
       "        vertical-align: top;\n",
       "    }\n",
       "\n",
       "    .dataframe thead th {\n",
       "        text-align: right;\n",
       "    }\n",
       "</style>\n",
       "<table border=\"1\" class=\"dataframe\">\n",
       "  <thead>\n",
       "    <tr style=\"text-align: right;\">\n",
       "      <th></th>\n",
       "      <th>product_recall</th>\n",
       "      <th>Strat_imp</th>\n",
       "      <th>Opport_behav</th>\n",
       "      <th>Admin_control</th>\n",
       "      <th>Avail_altern</th>\n",
       "      <th>Switch_cost</th>\n",
       "      <th>Trust</th>\n",
       "      <th>Relat_commit</th>\n",
       "    </tr>\n",
       "  </thead>\n",
       "  <tbody>\n",
       "    <tr>\n",
       "      <th>0</th>\n",
       "      <td>0</td>\n",
       "      <td>5.432</td>\n",
       "      <td>21.728</td>\n",
       "      <td>9.506</td>\n",
       "      <td>24.444</td>\n",
       "      <td>4.074</td>\n",
       "      <td>20.370</td>\n",
       "      <td>12.222</td>\n",
       "    </tr>\n",
       "    <tr>\n",
       "      <th>1</th>\n",
       "      <td>0</td>\n",
       "      <td>5.432</td>\n",
       "      <td>13.580</td>\n",
       "      <td>5.432</td>\n",
       "      <td>25.802</td>\n",
       "      <td>6.790</td>\n",
       "      <td>9.506</td>\n",
       "      <td>6.790</td>\n",
       "    </tr>\n",
       "    <tr>\n",
       "      <th>2</th>\n",
       "      <td>1</td>\n",
       "      <td>23.086</td>\n",
       "      <td>17.654</td>\n",
       "      <td>21.728</td>\n",
       "      <td>9.506</td>\n",
       "      <td>25.802</td>\n",
       "      <td>21.728</td>\n",
       "      <td>21.728</td>\n",
       "    </tr>\n",
       "    <tr>\n",
       "      <th>3</th>\n",
       "      <td>0</td>\n",
       "      <td>6.790</td>\n",
       "      <td>20.370</td>\n",
       "      <td>8.148</td>\n",
       "      <td>25.802</td>\n",
       "      <td>5.432</td>\n",
       "      <td>10.864</td>\n",
       "      <td>9.506</td>\n",
       "    </tr>\n",
       "    <tr>\n",
       "      <th>4</th>\n",
       "      <td>0</td>\n",
       "      <td>8.148</td>\n",
       "      <td>17.654</td>\n",
       "      <td>6.790</td>\n",
       "      <td>25.802</td>\n",
       "      <td>5.432</td>\n",
       "      <td>17.654</td>\n",
       "      <td>8.148</td>\n",
       "    </tr>\n",
       "    <tr>\n",
       "      <th>...</th>\n",
       "      <td>...</td>\n",
       "      <td>...</td>\n",
       "      <td>...</td>\n",
       "      <td>...</td>\n",
       "      <td>...</td>\n",
       "      <td>...</td>\n",
       "      <td>...</td>\n",
       "      <td>...</td>\n",
       "    </tr>\n",
       "    <tr>\n",
       "      <th>451</th>\n",
       "      <td>0</td>\n",
       "      <td>8.400</td>\n",
       "      <td>22.000</td>\n",
       "      <td>6.400</td>\n",
       "      <td>43.200</td>\n",
       "      <td>6.300</td>\n",
       "      <td>24.000</td>\n",
       "      <td>13.600</td>\n",
       "    </tr>\n",
       "    <tr>\n",
       "      <th>452</th>\n",
       "      <td>0</td>\n",
       "      <td>8.000</td>\n",
       "      <td>35.200</td>\n",
       "      <td>13.600</td>\n",
       "      <td>31.500</td>\n",
       "      <td>6.300</td>\n",
       "      <td>12.000</td>\n",
       "      <td>16.100</td>\n",
       "    </tr>\n",
       "    <tr>\n",
       "      <th>453</th>\n",
       "      <td>1</td>\n",
       "      <td>5.432</td>\n",
       "      <td>13.580</td>\n",
       "      <td>5.432</td>\n",
       "      <td>25.802</td>\n",
       "      <td>6.790</td>\n",
       "      <td>9.506</td>\n",
       "      <td>6.790</td>\n",
       "    </tr>\n",
       "    <tr>\n",
       "      <th>454</th>\n",
       "      <td>0</td>\n",
       "      <td>10.864</td>\n",
       "      <td>25.802</td>\n",
       "      <td>24.444</td>\n",
       "      <td>25.802</td>\n",
       "      <td>6.790</td>\n",
       "      <td>8.148</td>\n",
       "      <td>8.148</td>\n",
       "    </tr>\n",
       "    <tr>\n",
       "      <th>455</th>\n",
       "      <td>1</td>\n",
       "      <td>9.506</td>\n",
       "      <td>23.086</td>\n",
       "      <td>21.728</td>\n",
       "      <td>23.086</td>\n",
       "      <td>6.790</td>\n",
       "      <td>9.506</td>\n",
       "      <td>5.432</td>\n",
       "    </tr>\n",
       "  </tbody>\n",
       "</table>\n",
       "<p>456 rows × 8 columns</p>\n",
       "</div>"
      ],
      "text/plain": [
       "     product_recall  Strat_imp  Opport_behav  Admin_control  Avail_altern  \\\n",
       "0                 0      5.432        21.728          9.506        24.444   \n",
       "1                 0      5.432        13.580          5.432        25.802   \n",
       "2                 1     23.086        17.654         21.728         9.506   \n",
       "3                 0      6.790        20.370          8.148        25.802   \n",
       "4                 0      8.148        17.654          6.790        25.802   \n",
       "..              ...        ...           ...            ...           ...   \n",
       "451               0      8.400        22.000          6.400        43.200   \n",
       "452               0      8.000        35.200         13.600        31.500   \n",
       "453               1      5.432        13.580          5.432        25.802   \n",
       "454               0     10.864        25.802         24.444        25.802   \n",
       "455               1      9.506        23.086         21.728        23.086   \n",
       "\n",
       "     Switch_cost   Trust  Relat_commit  \n",
       "0          4.074  20.370        12.222  \n",
       "1          6.790   9.506         6.790  \n",
       "2         25.802  21.728        21.728  \n",
       "3          5.432  10.864         9.506  \n",
       "4          5.432  17.654         8.148  \n",
       "..           ...     ...           ...  \n",
       "451        6.300  24.000        13.600  \n",
       "452        6.300  12.000        16.100  \n",
       "453        6.790   9.506         6.790  \n",
       "454        6.790   8.148         8.148  \n",
       "455        6.790   9.506         5.432  \n",
       "\n",
       "[456 rows x 8 columns]"
      ]
     },
     "execution_count": 4,
     "metadata": {},
     "output_type": "execute_result"
    }
   ],
   "source": [
    "df"
   ]
  },
  {
   "cell_type": "code",
   "execution_count": 5,
   "id": "6fa358d4",
   "metadata": {},
   "outputs": [],
   "source": [
    "imp_features2 = ['Strat_imp', 'Opport_behav', 'Admin_control',\n",
    "       'Avail_altern', 'Switch_cost', 'Trust', 'Relat_commit']"
   ]
  },
  {
   "cell_type": "code",
   "execution_count": 6,
   "id": "baa47f1f",
   "metadata": {},
   "outputs": [],
   "source": [
    "from sklearn.model_selection import train_test_split\n",
    "X_train, X_test, y_train, y_test = train_test_split(df[imp_features2],df['product_recall'],test_size=0.3)"
   ]
  },
  {
   "cell_type": "code",
   "execution_count": 7,
   "id": "51b85e7d",
   "metadata": {},
   "outputs": [],
   "source": [
    "from sklearn import svm\n",
    "classifier = svm.SVC(kernel='linear')\n",
    "classifier.fit(X_train, y_train)\n",
    "prediction_SVM = classifier.predict(X_test)"
   ]
  },
  {
   "cell_type": "code",
   "execution_count": 8,
   "id": "3b78c49b",
   "metadata": {},
   "outputs": [
    {
     "data": {
      "text/plain": [
       "0.9343065693430657"
      ]
     },
     "execution_count": 8,
     "metadata": {},
     "output_type": "execute_result"
    }
   ],
   "source": [
    "classifier.score(X_test,y_test)"
   ]
  },
  {
   "cell_type": "code",
   "execution_count": 12,
   "id": "2ba67ff0",
   "metadata": {},
   "outputs": [
    {
     "data": {
      "text/plain": [
       "<AxesSubplot:>"
      ]
     },
     "execution_count": 12,
     "metadata": {},
     "output_type": "execute_result"
    },
    {
     "data": {
      "image/png": "[encoded data removed]",
      "text/plain": [
       "<Figure size 432x288 with 2 Axes>"
      ]
     },
     "metadata": {
      "needs_background": "light"
     },
     "output_type": "display_data"
    }
   ],
   "source": [
    "sns.heatmap(confusion_matrix(y_test, prediction_SVM), annot=True,cmap ='flare' )"
   ]
  },
  {
   "cell_type": "code",
   "execution_count": 10,
   "id": "2fe4fe74",
   "metadata": {},
   "outputs": [
    {
     "name": "stdout",
     "output_type": "stream",
     "text": [
      "              precision    recall  f1-score   support\n",
      "\n",
      "           0       0.92      0.98      0.95        85\n",
      "           1       0.96      0.87      0.91        52\n",
      "\n",
      "    accuracy                           0.93       137\n",
      "   macro avg       0.94      0.92      0.93       137\n",
      "weighted avg       0.94      0.93      0.93       137\n",
      "\n"
     ]
    }
   ],
   "source": [
    "from sklearn.metrics import classification_report, confusion_matrix\n",
    "print(classification_report(y_test,prediction_SVM))"
   ]
  },
  {
   "cell_type": "code",
   "execution_count": null,
   "id": "d9a184dd",
   "metadata": {},
   "outputs": [],
   "source": []
  },
  {
   "cell_type": "code",
   "execution_count": null,
   "id": "e80967b7",
   "metadata": {},
   "outputs": [],
   "source": []
  }
 ],
 "metadata": {
  "kernelspec": {
   "display_name": "Python 3 (ipykernel)",
   "language": "python",
   "name": "python3"
  },
  "language_info": {
   "codemirror_mode": {
    "name": "ipython",
    "version": 3
   },
   "file_extension": ".py",
   "mimetype": "text/x-python",
   "name": "python",
   "nbconvert_exporter": "python",
   "pygments_lexer": "ipython3",
   "version": "3.9.7"
  }
 },
 "nbformat": 4,
 "nbformat_minor": 5
}
